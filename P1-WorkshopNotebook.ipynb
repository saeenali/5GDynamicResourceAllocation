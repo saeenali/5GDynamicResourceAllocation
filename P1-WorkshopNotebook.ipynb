{
 "cells": [
  {
   "cell_type": "markdown",
   "id": "49e224c9",
   "metadata": {},
   "source": [
    "# Install dependencies, perform imports, and download the dataset"
   ]
  },
  {
   "cell_type": "code",
   "execution_count": null,
   "id": "6ac5b774-2d59-4c5a-9d87-05b0f75ce2a2",
   "metadata": {},
   "outputs": [],
   "source": [
    "%%capture\n",
    "%load_ext autoreload\n",
    "%autoreload 2"
   ]
  },
  {
   "cell_type": "code",
   "execution_count": null,
   "id": "04932c94-eefb-4ebc-b5f2-798a6329e3ae",
   "metadata": {
    "scrolled": true
   },
   "outputs": [],
   "source": [
    "# %%capture\n",
    "%cd ./net_model_dataset\n",
    "!for file in *.zip; do unzip \"$file\"; done\n",
    "!rm *.zip\n",
    "%cd ../"
   ]
  },
  {
   "cell_type": "code",
   "execution_count": null,
   "id": "ae6ca24a",
   "metadata": {},
   "outputs": [],
   "source": [
    "from data_generator import DataGenerator as DataGenerator\n",
    "from matplotlib import pyplot as plt\n",
    "import pandas as pd\n",
    "import ipywidgets as widgets\n",
    "import matplotlib as mpl\n",
    "mpl.rcParams['figure.facecolor'] = 'white'\n",
    "from IPython.display import display"
   ]
  },
  {
   "cell_type": "markdown",
   "id": "5cd684d8",
   "metadata": {},
   "source": [
    "# Exploring and Visualizing the RAN dataset"
   ]
  },
  {
   "cell_type": "markdown",
   "id": "363b4059",
   "metadata": {},
   "source": [
    "## Investigating the files"
   ]
  },
  {
   "cell_type": "code",
   "execution_count": null,
   "id": "7305bd02",
   "metadata": {},
   "outputs": [],
   "source": [
    "print(\"RAN dataset:\")\n",
    "!ls -lah ./net_model_dataset/ran/\n",
    "print(\"\\n\\nOVS dataset:\")\n",
    "!ls -lah ./net_model_dataset/ovs/\n",
    "print(\"\\n\\nUPF dataset:\")\n",
    "!ls -lah ./net_model_dataset/upf/"
   ]
  },
  {
   "cell_type": "markdown",
   "id": "f9ddfa70",
   "metadata": {},
   "source": [
    "## Loading and sampling the dataset"
   ]
  },
  {
   "cell_type": "code",
   "execution_count": null,
   "id": "b6ba64aa",
   "metadata": {
    "editable": true,
    "slideshow": {
     "slide_type": ""
    },
    "tags": []
   },
   "outputs": [],
   "source": [
    "ran_data_gen = DataGenerator(\"./net_model_dataset/ran/input_dataset.pkl\", \"./net_model_dataset/ran/output_dataset.pkl\", vnf_type='RAN')\n",
    "print(f\"Input dataset columns: {ran_data_gen.train_input.columns.tolist()}\")\n",
    "print(f\"Output dataset columns: {ran_data_gen.train_output.columns.tolist()}\")\n",
    "\n",
    "# Show as a table the first 5 rows of the input and output datasets\n",
    "print(\"\\n\\nInput dataset sample:\")\n",
    "display(ran_data_gen.train_input.head())\n",
    "print(\"\\n\\nOutput dataset sample:\")\n",
    "display(ran_data_gen.train_output.head())"
   ]
  },
  {
   "cell_type": "code",
   "execution_count": null,
   "id": "c4ccb9e4",
   "metadata": {},
   "outputs": [],
   "source": [
    "print(\"\\n\\nInput dataset description:\")\n",
    "display(ran_data_gen.train_input.describe())\n",
    "print(\"\\n\\nOutput dataset description:\")\n",
    "display(ran_data_gen.train_output.describe())"
   ]
  },
  {
   "cell_type": "markdown",
   "id": "06255468",
   "metadata": {},
   "source": [
    "## Plotting the output throughput"
   ]
  },
  {
   "cell_type": "code",
   "execution_count": null,
   "id": "23f341b4-ed6c-4bae-9d27-2a333d3f0e7f",
   "metadata": {
    "editable": true,
    "slideshow": {
     "slide_type": ""
    },
    "tags": []
   },
   "outputs": [],
   "source": [
    "ran_data_gen.create_3d_plot()"
   ]
  },
  {
   "cell_type": "markdown",
   "id": "35bae17d",
   "metadata": {},
   "source": [
    "## Investigating packet loss and delay\n"
   ]
  },
  {
   "cell_type": "code",
   "execution_count": null,
   "id": "90a7947f",
   "metadata": {},
   "outputs": [],
   "source": [
    "input_throughput = 40 # between 1 and 50 Mbps\n",
    "resource_allocation = 1000 # between 250 and 2500 millicores CPU\n",
    "\n",
    "ran_data_gen = DataGenerator(\"./ran/input_dataset.pkl\", \"./ran/output_dataset.pkl\", vnf_type='RAN')\n",
    "data_sample = ran_data_gen.get_nearest_neighbor(input_throughput, resource_allocation)\n",
    "if data_sample is None:\n",
    "    pass\n",
    "else:\n",
    "    suffix = ['Mbps', 'millicores', 'Mbps', 's', '%']\n",
    "    for i, (key, value) in enumerate(data_sample.items()):\n",
    "        print(f\"{key}: {value} {suffix[i]}\")\n",
    "        if i == 1:\n",
    "            print(\"\\n\")\n"
   ]
  },
  {
   "cell_type": "code",
   "execution_count": null,
   "id": "fca62823",
   "metadata": {},
   "outputs": [],
   "source": [
    "# Define sliders for input throughput and resource allocation\n",
    "input_throughput_slider = widgets.IntSlider(\n",
    "    value=40, min=5, max=50, step=5, \n",
    "    description='Input Throughput (Mbps):',\n",
    "    continuous_update=True,\n",
    "    style={'description_width': '200px'},\n",
    "    layout=widgets.Layout(width='50%', padding='10px 0px')\n",
    ")\n",
    "\n",
    "resource_allocation_slider = widgets.SelectionSlider(\n",
    "    options=sorted(ran_data_gen.train_input['res'].unique().tolist()), \n",
    "    value=1000, description='Resource Allocation (millicores):',\n",
    "    continuous_update=True,\n",
    "    style={'description_width': '200px'},\n",
    "    layout=widgets.Layout(width='50%', padding='10px 0px')\n",
    ")\n",
    "\n",
    "# Create labels for metrics\n",
    "metric_labels = [\"Input Throughput\", \"Resource Allocation\", \"Output Throughput\", \"Delay\", \"Packet Loss\"]\n",
    "metric_units = [\"Mbps\", \"millicores\", \"Mbps\", \"ms\", \"%\"]\n",
    "output_labels = [widgets.Label(f\"{label}:\", layout=widgets.Layout(width='150px', padding=\"5px\", font_weight='bold')) for label in metric_labels]\n",
    "output_values = [widgets.Label(\"\", layout=widgets.Layout(width='150px', padding=\"5px\")) for _ in metric_labels]\n",
    "\n",
    "# Arrange labels and values in a grid\n",
    "output_grid = widgets.GridBox(\n",
    "    children=[widgets.HBox([label, value], layout=widgets.Layout(border='1px solid gray', padding=\"5px\")) \n",
    "              for label, value in zip(output_labels, output_values)],\n",
    "    layout=widgets.Layout(grid_template_columns=\"repeat(2, 300px)\", width='80%', margin='20px 0px')\n",
    ")\n",
    "\n",
    "# Plot output widget\n",
    "plot_output = widgets.Output()\n",
    "\n",
    "# Plot update function\n",
    "def update_plot(data_sample):\n",
    "    with plot_output:\n",
    "        plot_output.clear_output(wait=True)\n",
    "        if data_sample:\n",
    "            metric_values = list(data_sample.values())\n",
    "            min_vals, max_vals = [1, 250, 1, 0, 0], [50, 2500, 50, 100, 100]\n",
    "            normalized_values = [(v - min_v) / (max_v - min_v) for v, min_v, max_v in zip(metric_values, min_vals, max_vals)]\n",
    "            normalized_values = [max(0, min(1, v)) for v in normalized_values]  # Clamp to [0, 1]\n",
    "\n",
    "            plt.figure(figsize=(8, 4))\n",
    "            plt.bar(metric_labels, normalized_values, color='skyblue')\n",
    "            plt.xlabel(\"Metrics\")\n",
    "            plt.ylabel(\"Percent (%)\")\n",
    "            plt.ylim(0, 1)\n",
    "            plt.title(\"Metrics Visualization\")\n",
    "            plt.xticks(rotation=45)\n",
    "            plt.tight_layout()\n",
    "            plt.show()\n",
    "        else:\n",
    "            print(\"No data available for selected input\")\n",
    "\n",
    "# Update output and plot based on slider values\n",
    "def update_output(change=None):\n",
    "    input_throughput = input_throughput_slider.value\n",
    "    resource_allocation = resource_allocation_slider.value\n",
    "    data_sample = ran_data_gen.get_nearest_neighbor(input_throughput, resource_allocation)\n",
    "    \n",
    "    if data_sample:\n",
    "        for i, value in enumerate(data_sample.values()):\n",
    "            output_values[i].value = f\"{value:.1f} {metric_units[i]}\"\n",
    "        update_plot(data_sample)\n",
    "    else:\n",
    "        for value_label in output_values:\n",
    "            value_label.value = \"No data\"\n",
    "        update_plot(None)\n",
    "\n",
    "# Bind slider updates to the function and display all widgets\n",
    "input_throughput_slider.observe(update_output, names='value')\n",
    "resource_allocation_slider.observe(update_output, names='value')\n",
    "\n",
    "display(input_throughput_slider, resource_allocation_slider, output_grid, plot_output)\n",
    "\n",
    "# Initialize plot with default slider values\n",
    "update_output()"
   ]
  },
  {
   "cell_type": "markdown",
   "id": "8b86b4df-40e2-4210-bbbf-e7c2ade0fa7c",
   "metadata": {},
   "source": [
    "# "
   ]
  },
  {
   "cell_type": "markdown",
   "id": "72735a4e-8a67-4002-88a0-831d324e87cc",
   "metadata": {
    "editable": true,
    "slideshow": {
     "slide_type": ""
    },
    "tags": []
   },
   "source": [
    "# Exercise: Explore and Visualize the OvS dataset"
   ]
  },
  {
   "cell_type": "code",
   "execution_count": null,
   "id": "bad980ff",
   "metadata": {},
   "outputs": [],
   "source": [
    "# Step 1: Initialize the Data Generatr\n",
    "# Task: Load the OvS dataset using the DataGenerator class.\n",
    "# Hint: The dataset is located in \"./ovs/input_dataset.pkl\" and \"./ovs/output_dataset.pkl\". \n",
    "# Specify the VNF type as 'OvS' when creating an instance.\n",
    "# Example: DataGenerator(<input_path>, <output_path>, <vnf_type>)\n",
    "# Uncomment and complete the line below:\n",
    "# ovs_data_gen = DataGenerator( ... )\n",
    "\n",
    "# Step 2: Inspect Dataset Columns\n",
    "# Task: Print a summary of the input and output dataset columns to understand the structure.\n",
    "# Hint: Use .columns.tolist() on the ovs_data_gen.train_input and ovs_data_gen.train_output.\n",
    "# Uncomment and complete the lines below:\n",
    "# print(\"Input dataset columns:\", ...)\n",
    "# print(\"Output dataset columns:\", ...)\n",
    "\n",
    "# Step 3: Preview the Data\n",
    "# Task: Display the first 5 rows of both the input and output datasets in a table format.\n",
    "# Hint: Use .head() on the ovs_data_gen.train_input and ovs_data_gen.train_output.\n",
    "# Uncomment and complete the lines below:\n",
    "# print(\"\\n\\nInput dataset sample:\")\n",
    "# display(...)  # Show first 5 rows of input dataset\n",
    "# print(\"\\n\\nOutput dataset sample:\")\n",
    "# display(...)  # Show first 5 rows of output dataset\n",
    "\n",
    "# Step 4: Statistical Summary\n",
    "# Task: Show a statistical summary of the input and output datasets.\n",
    "# Hint: Use .describe() on the ovs_data_gen.train_input and ovs_data_gen.train_output.\n",
    "# Uncomment and complete the lines below:\n",
    "# print(\"\\n\\nInput dataset description:\")\n",
    "# display(...)  # Display statistical summary of input dataset\n",
    "# print(\"\\n\\nOutput dataset description:\")\n",
    "# display(...)  # Display statistical summary of output dataset\n",
    "\n",
    "# Step 5: Visualize the Dataset in 3D\n",
    "# Task: Create a 3D plot of the OvS dataset using a method from ovs_data_gen.\n",
    "# Hint: Look for a method in DataGenerator class (data_generator.py) that helps you visualize the data in 3D.\n",
    "# Uncomment and complete the line below:\n",
    "# ovs_data_gen\n"
   ]
  },
  {
   "cell_type": "markdown",
   "id": "4da08fb0",
   "metadata": {},
   "source": [
    "## Solutions"
   ]
  },
  {
   "cell_type": "code",
   "execution_count": null,
   "id": "d3346cf8",
   "metadata": {},
   "outputs": [],
   "source": [
    "\n",
    "# Step 1: Initialize the Data Generatr\n",
    "ovs_data_gen = DataGenerator(\"./ovs/input_dataset.pkl\", \"./ovs/output_dataset.pkl\", vnf_type='OvS')\n",
    "\n",
    "# Step 2: Inspect Dataset Columns\n",
    "print(\"Input dataset columns:\", ovs_data_gen.train_input.columns.tolist())\n",
    "print(\"Output dataset columns:\", ovs_data_gen.train_output.columns.tolist())\n",
    "\n",
    "# Step 3: Preview the Data\n",
    "print(\"\\n\\nInput dataset sample:\")\n",
    "display(ovs_data_gen.train_input.head())\n",
    "print(\"\\n\\nOutput dataset sample:\")\n",
    "display(ovs_data_gen.train_output.head())\n",
    "\n",
    "# Step 4: Statistical Summary\n",
    "print(\"\\n\\nInput dataset description:\")\n",
    "display(ovs_data_gen.train_input.describe())\n",
    "print(\"\\n\\nOutput dataset description:\")\n",
    "display(ovs_data_gen.train_output.describe())\n",
    "\n",
    "# Step 5: Visualize the Dataset in 3D\n",
    "ovs_data_gen.create_3d_plot()\n",
    "\n"
   ]
  },
  {
   "cell_type": "code",
   "execution_count": null,
   "id": "2ed6264e",
   "metadata": {},
   "outputs": [],
   "source": []
  }
 ],
 "metadata": {
  "kernelspec": {
   "display_name": "Python 3 (ipykernel)",
   "language": "python",
   "name": "python3"
  },
  "language_info": {
   "codemirror_mode": {
    "name": "ipython",
    "version": 3
   },
   "file_extension": ".py",
   "mimetype": "text/x-python",
   "name": "python",
   "nbconvert_exporter": "python",
   "pygments_lexer": "ipython3",
   "version": "3.10.12"
  }
 },
 "nbformat": 4,
 "nbformat_minor": 5
}
