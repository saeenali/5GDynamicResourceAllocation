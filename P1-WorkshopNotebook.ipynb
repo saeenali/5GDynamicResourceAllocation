{
 "cells": [
  {
   "cell_type": "markdown",
   "id": "5153d081",
   "metadata": {},
   "source": [
    "<div style=\"font-family: 'Courier New', Courier, monospace; font-size: 1.8em; color: #f6f8fa; background-color: #24292e; border: 2px solid #444d56; border-radius: 6px; padding: 10px 20px; margin-top: 20px; box-shadow: 0 2px 5px rgba(0, 0, 0, 0.1);\">\n",
    "    <span style=\"font-weight: 600; font-size: 1.1em; letter-spacing: 0.5px; color: #f0f6fc;\">1. Notebook Overview</span>\n",
    "</div>\n"
   ]
  },
  {
   "cell_type": "markdown",
   "id": "8a5acc15",
   "metadata": {},
   "source": [
    "<div style=\"font-family: 'Arial', sans-serif; line-height: 1.7; color: #333; max-width: 1000px; margin: auto; padding: 15px;\">\n",
    "\n",
    "  <p style=\"font-size: 1.2em; margin-bottom: 20px;\">\n",
    "    Welcome to the first notebook in our three-part series! In this section, we’ll dive into datasets for the \n",
    "    <strong>RAN</strong>, <strong>Transport (OvS)</strong>, and <strong>Core (UPF)</strong> VNFs. These datasets were gathered by injecting traffic into the VNFs, as illustrated below, and capturing both input and output flows across various resource allocations.\n",
    "  </p>\n",
    "\n",
    "  <div align=\"center\" style=\"margin: 25px 0; padding: 15px; background-color: white; \">\n",
    "    <img src=\"images/5GNet.png\" alt=\"vNetRunner Overview\" width=\"400\"\" />\n",
    "  </div>\n",
    "\n",
    "  <p style=\"font-size: 1.2em; margin-top: 20px;\">\n",
    "    To begin, let’s review the <em><strong>Directory Structure</strong></em> and <em><strong>Data Description</strong></em> sections available in the \n",
    "    <a href=\"https://github.com/sulaimanalmani/net_model_dataset\" target=\"_blank\" style=\"color: #2196F3; text-decoration: none; font-weight: bold;\">\n",
    "      net_model_dataset\n",
    "    </a> repository.\n",
    "  </p>\n",
    "</div>\n"
   ]
  },
  {
   "cell_type": "markdown",
   "id": "57bae648",
   "metadata": {},
   "source": [
    "<div style=\"font-family: 'Courier New', Courier, monospace; font-size: 1.8em; color: #f6f8fa; background-color: #24292e; border: 2px solid #444d56; border-radius: 6px; padding: 10px 20px; margin-top: 20px; box-shadow: 0 2px 5px rgba(0, 0, 0, 0.1);\">\n",
    "    <span style=\"font-weight: 600; font-size: 1.1em; letter-spacing: 0.5px; color: #f0f6fc;\">2. Importing the necessary libraries</span>\n",
    "</div>\n"
   ]
  },
  {
   "cell_type": "code",
   "execution_count": 1,
   "id": "ae6ca24a",
   "metadata": {},
   "outputs": [],
   "source": [
    "%%capture\n",
    "%load_ext autoreload\n",
    "%autoreload 2\n",
    "from data_generator import DataGenerator as DataGenerator\n",
    "import os\n",
    "from matplotlib import pyplot as plt\n",
    "import pandas as pd\n",
    "import ipywidgets as widgets\n",
    "import matplotlib as mpl\n",
    "mpl.rcParams['figure.facecolor'] = 'white'\n",
    "from IPython.display import display, HTML\n",
    "import ipywidgets as widgets\n",
    "import plotly.graph_objects as go\n"
   ]
  },
  {
   "cell_type": "markdown",
   "id": "5cd684d8",
   "metadata": {},
   "source": [
    "<div style=\"font-family: 'Courier New', Courier, monospace; font-size: 1.8em; color: #f6f8fa; background-color: #24292e; border: 2px solid #444d56; border-radius: 6px; padding: 10px 20px; margin-top: 20px; box-shadow: 0 2px 5px rgba(0, 0, 0, 0.1);\">\n",
    "    <span style=\"font-weight: 600; font-size: 1.1em; letter-spacing: 0.5px; color: #f0f6fc;\">3. Exploring the dataset</span>\n",
    "</div>\n"
   ]
  },
  {
   "cell_type": "markdown",
   "id": "363b4059",
   "metadata": {},
   "source": [
    "<div style=\"display: inline-block;\">\n",
    "    <h2 style=\"font-family: 'Courier New', Courier, monospace; font-size: 1.5em; color: #f0f6fc; background-color: #2d333b; border-left: 4px solid #3F51B5; padding: 8px 15px; border-radius: 4px; margin-top: 20px; box-shadow: 0 1px 3px rgba(0, 0, 0, 0.1);\">\n",
    "        3a. Investigating the Files\n",
    "    </h2>\n",
    "</div>\n"
   ]
  },
  {
   "cell_type": "code",
   "execution_count": 3,
   "id": "7305bd02",
   "metadata": {},
   "outputs": [
    {
     "name": "stdout",
     "output_type": "stream",
     "text": [
      "RAN dataset:\n",
      "\n",
      "  output_dataset.pkl - 106.69 MB\n",
      "  input_dataset.pkl - 63.42 MB\n",
      "\n",
      "\n",
      "OVS dataset:\n",
      "\n",
      "  output_dataset.pkl - 157.02 MB\n",
      "  input_dataset.pkl - 97.80 MB\n",
      "\n",
      "\n",
      "UPF dataset:\n",
      "\n",
      "  output_dataset.pkl - 21.27 MB\n",
      "  input_dataset.pkl - 10.65 MB\n",
      "\n",
      "\n"
     ]
    }
   ],
   "source": [
    "# Fill in the datasets based ont the directory structure.\n",
    "# Hint use the sidebar on the left to navigate to net_model_dataset and explore the subdirectories.\n",
    "dataset_folders = {\n",
    "    \"RAN dataset\": \"./net_model_dataset/ran/\",\n",
    "    \"OVS dataset\": \"./net_model_dataset/ovs/\",    # <- Participants should fill in this path\n",
    "    \"UPF dataset\": \"./net_model_dataset/upf/\"     # <- Participants should fill in this path\n",
    "}\n",
    "\n",
    "# Print dataset filenames and sizes\n",
    "for dataset_name, dataset_path in dataset_folders.items():\n",
    "    print(f\"{dataset_name}:\\n\")\n",
    "    for file in os.listdir(dataset_path):\n",
    "        file_path = os.path.join(dataset_path, file)\n",
    "        file_size = os.path.getsize(file_path) / (1024 * 1024)  # Convert bytes to MB\n",
    "        print(f\"  {file} - {file_size:.2f} MB\")\n",
    "    print(\"\\n\")"
   ]
  },
  {
   "cell_type": "markdown",
   "id": "6511e19c",
   "metadata": {
    "vscode": {
     "languageId": "html"
    }
   },
   "source": [
    "<center>Double click here to reveal the solution.</center>\n",
    "\n",
    "<!-- \n",
    "datasets = {\n",
    "    \"RAN dataset\": \"./net_model_dataset/ran/\",\n",
    "    \"OVS dataset\": \"./net_model_dataset/ovs/\",  \n",
    "    \"UPF dataset\": \"./net_model_dataset/upf/\"\n",
    "}\n",
    " -->"
   ]
  },
  {
   "cell_type": "markdown",
   "id": "02fc9244",
   "metadata": {},
   "source": [
    "<div style=\"font-family: Arial, sans-serif; color: #333; line-height: 1.6; max-width: 600px;\">\n",
    "  <h3 style=\"color: #4CAF50; padding-bottom: 5px; border-bottom: 2px solid #4CAF50; text-align: left;\">Why Store Datasets as .pkl?</h3>\n",
    "  <p style=\"font-size: 1.1em; margin-top: 15px; text-align: left;\">\n",
    "    Using the <code>.pkl</code> format for storing datasets offers several advantages:\n",
    "  </p>\n",
    "  <ul style=\"font-size: 1.1em; padding-left: 20px; margin-top: 10px; text-align: left;\">\n",
    "    <li><strong>Efficiency:</strong> <code>.pkl</code> files save complex Python data structures directly, preserving data types, making them faster to load and store than formats like CSV.</li>\n",
    "    <li><strong>Compact Storage:</strong> Binary storage, along with optional compression, reduces file size, saving storage space and speeding up data handling.</li>\n",
    "    <li><strong>Ideal for Machine Learning:</strong> <code>.pkl</code> files integrate seamlessly with Python, making them perfect for machine learning workflows and Python-based projects.</li>\n",
    "  </ul>\n",
    "</div>\n"
   ]
  },
  {
   "cell_type": "markdown",
   "id": "f9ddfa70",
   "metadata": {},
   "source": [
    "<div style=\"display: inline-block;\">\n",
    "    <h2 style=\"font-family: 'Courier New', Courier, monospace; font-size: 1.5em; color: #f0f6fc; background-color: #2d333b; border-left: 4px solid #3F51B5; padding: 8px 15px; border-radius: 4px; margin-top: 20px; box-shadow: 0 1px 3px rgba(0, 0, 0, 0.1);\">\n",
    "        3b. Loading and sampling the dataset\n",
    "    </h2>\n",
    "</div>\n"
   ]
  },
  {
   "cell_type": "markdown",
   "id": "1669fbd4",
   "metadata": {},
   "source": [
    "<div style=\"font-family: Arial, sans-serif; color: #333; line-height: 1.6; max-width: 600px;\">\n",
    "  <h3 style=\"color: #4CAF50; padding-bottom: 5px; border-bottom: 2px solid #4CAF50; margin-bottom: 15px;\">What is a DataGenerator?</h3>\n",
    "  <p style=\"font-size: 1.1em; margin-top: 10px;\">\n",
    "    A <strong>DataGenerator</strong> is a class designed to load and preprocess data in batches for training machine learning models. It efficiently fetches data from storage, applies transformations (like normalization or augmentation), and feeds it to the model in smaller chunks, reducing memory load. This setup is especially useful for handling large datasets and ensuring smooth data flow during training.\n",
    "  </p>\n",
    "  <p style=\"font-size: 1.1em; margin-top: 10px;\">\n",
    "    Please refer to our implementation of the Data Generator here: \n",
    "    <a href=\"https://github.com/sulaimanalmani/5GDynamicResourceAllocation/blob/main/data_generator.py\" target=\"_blank\" style=\"color: #2196F3; text-decoration: none;\">data_generator.py</a>\n",
    "  </p>\n",
    "</div>\n"
   ]
  },
  {
   "cell_type": "code",
   "execution_count": 5,
   "id": "8d0e2103",
   "metadata": {},
   "outputs": [
    {
     "name": "stdout",
     "output_type": "stream",
     "text": [
      "Dataset loaded successfully!\n"
     ]
    }
   ],
   "source": [
    "# Load the OvS input and output datasets using the DataGenerator class.\n",
    "ran_data_gen = DataGenerator(input_dataset_file=\"./net_model_dataset/ran/input_dataset.pkl\",\n",
    "                              output_dataset_file=\"./net_model_dataset/ran/output_dataset.pkl\", \n",
    "                              vnf_type='RAN')\n",
    "ovs_data_gen = DataGenerator(input_dataset_file=\"./net_model_dataset/ovs/input_dataset.pkl\",\n",
    "                              output_dataset_file=\"./net_model_dataset/ovs/output_dataset.pkl\", \n",
    "                              vnf_type='OvS')\n",
    "upf_data_gen = DataGenerator(input_dataset_file=\"./net_model_dataset/upf/input_dataset.pkl\",\n",
    "                              output_dataset_file=\"./net_model_dataset/upf/output_dataset.pkl\", \n",
    "                              vnf_type='UPF')\n",
    "\n",
    "# Fill in the unfinished lines\n",
    "ran_input_data = ran_data_gen.input_dataset\n",
    "ran_output_data = ran_data_gen.output_dataset\n",
    "ovs_input_data = ovs_data_gen.input_dataset # <- Participants should finish this line\n",
    "ovs_output_data = ovs_data_gen.output_dataset # <- Participants should finish this line\n",
    "upf_input_data = upf_data_gen.input_dataset # <- Participants should finish this line\n",
    "upf_output_data = upf_data_gen.output_dataset # <- Participants should finish this line\n",
    "\n",
    "print(\"Dataset loaded successfully!\")"
   ]
  },
  {
   "cell_type": "markdown",
   "id": "f3f7f0c7",
   "metadata": {},
   "source": [
    "<center>Double click here to reveal the solution.</center>\n",
    "\n",
    "<!-- \n",
    "ran_input_data = ran_data_gen.input_dataset\n",
    "ran_output_data = ran_data_gen.output_dataset\n",
    "ovs_input_data = ovs_data_gen.input_dataset\n",
    "ovs_output_data = ovs_data_gen.output_dataset\n",
    "upf_input_data = upf_data_gen.input_dataset\n",
    "upf_output_data = upf_data_gen.output_dataset\n",
    " -->"
   ]
  },
  {
   "cell_type": "code",
   "execution_count": 6,
   "id": "8de62ff1",
   "metadata": {},
   "outputs": [
    {
     "name": "stdout",
     "output_type": "stream",
     "text": [
      "Input features: ['packet_size', 'packet_rate', 'throughput', 'inter_arrival_time_mean', 'inter_arrival_time_std', 'res']\n",
      "Output features: ['packet_size', 'packet_rate', 'throughput', 'inter_arrival_time_mean', 'inter_arrival_time_std', 'time_in_sys']\n"
     ]
    }
   ],
   "source": [
    "# List the input and output features\n",
    "print(f\"Input features: {upf_input_data.columns.tolist()}\")\n",
    "print(f\"Output features: {upf_output_data.columns.tolist()}\")"
   ]
  },
  {
   "cell_type": "code",
   "execution_count": 7,
   "id": "b6ba64aa",
   "metadata": {
    "editable": true,
    "slideshow": {
     "slide_type": ""
    },
    "tags": []
   },
   "outputs": [
    {
     "data": {
      "text/html": [
       "<div>\n",
       "<style scoped>\n",
       "    .dataframe tbody tr th:only-of-type {\n",
       "        vertical-align: middle;\n",
       "    }\n",
       "\n",
       "    .dataframe tbody tr th {\n",
       "        vertical-align: top;\n",
       "    }\n",
       "\n",
       "    .dataframe thead th {\n",
       "        text-align: right;\n",
       "    }\n",
       "</style>\n",
       "<table border=\"1\" class=\"dataframe\">\n",
       "  <thead>\n",
       "    <tr style=\"text-align: right;\">\n",
       "      <th></th>\n",
       "      <th>packet_size</th>\n",
       "      <th>packet_rate</th>\n",
       "      <th>throughput</th>\n",
       "      <th>inter_arrival_time_mean</th>\n",
       "      <th>inter_arrival_time_std</th>\n",
       "      <th>res</th>\n",
       "    </tr>\n",
       "  </thead>\n",
       "  <tbody>\n",
       "    <tr>\n",
       "      <th>281</th>\n",
       "      <td>1378.0</td>\n",
       "      <td>1997.375255</td>\n",
       "      <td>22.019065</td>\n",
       "      <td>0.000501</td>\n",
       "      <td>0.000343</td>\n",
       "      <td>200.0</td>\n",
       "    </tr>\n",
       "    <tr>\n",
       "      <th>286</th>\n",
       "      <td>1378.0</td>\n",
       "      <td>2341.430403</td>\n",
       "      <td>25.811929</td>\n",
       "      <td>0.000427</td>\n",
       "      <td>0.000281</td>\n",
       "      <td>200.0</td>\n",
       "    </tr>\n",
       "    <tr>\n",
       "      <th>473</th>\n",
       "      <td>1378.0</td>\n",
       "      <td>1349.755924</td>\n",
       "      <td>14.879709</td>\n",
       "      <td>0.000741</td>\n",
       "      <td>0.000557</td>\n",
       "      <td>200.0</td>\n",
       "    </tr>\n",
       "    <tr>\n",
       "      <th>227</th>\n",
       "      <td>1378.0</td>\n",
       "      <td>2764.895856</td>\n",
       "      <td>30.480212</td>\n",
       "      <td>0.000362</td>\n",
       "      <td>0.000221</td>\n",
       "      <td>200.0</td>\n",
       "    </tr>\n",
       "    <tr>\n",
       "      <th>436</th>\n",
       "      <td>1378.0</td>\n",
       "      <td>1364.832702</td>\n",
       "      <td>15.045916</td>\n",
       "      <td>0.000733</td>\n",
       "      <td>0.000564</td>\n",
       "      <td>200.0</td>\n",
       "    </tr>\n",
       "  </tbody>\n",
       "</table>\n",
       "</div>"
      ],
      "text/plain": [
       "     packet_size  packet_rate  throughput  inter_arrival_time_mean  \\\n",
       "281       1378.0  1997.375255   22.019065                 0.000501   \n",
       "286       1378.0  2341.430403   25.811929                 0.000427   \n",
       "473       1378.0  1349.755924   14.879709                 0.000741   \n",
       "227       1378.0  2764.895856   30.480212                 0.000362   \n",
       "436       1378.0  1364.832702   15.045916                 0.000733   \n",
       "\n",
       "     inter_arrival_time_std    res  \n",
       "281                0.000343  200.0  \n",
       "286                0.000281  200.0  \n",
       "473                0.000557  200.0  \n",
       "227                0.000221  200.0  \n",
       "436                0.000564  200.0  "
      ]
     },
     "metadata": {},
     "output_type": "display_data"
    }
   ],
   "source": [
    "# View the first 5 rows of the input and output datasets\n",
    "display(upf_input_data.head())"
   ]
  },
  {
   "cell_type": "code",
   "execution_count": 8,
   "id": "c4185892",
   "metadata": {},
   "outputs": [
    {
     "data": {
      "text/html": [
       "<div>\n",
       "<style scoped>\n",
       "    .dataframe tbody tr th:only-of-type {\n",
       "        vertical-align: middle;\n",
       "    }\n",
       "\n",
       "    .dataframe tbody tr th {\n",
       "        vertical-align: top;\n",
       "    }\n",
       "\n",
       "    .dataframe thead th {\n",
       "        text-align: right;\n",
       "    }\n",
       "</style>\n",
       "<table border=\"1\" class=\"dataframe\">\n",
       "  <thead>\n",
       "    <tr style=\"text-align: right;\">\n",
       "      <th></th>\n",
       "      <th>packet_size</th>\n",
       "      <th>packet_rate</th>\n",
       "      <th>throughput</th>\n",
       "      <th>inter_arrival_time_mean</th>\n",
       "      <th>inter_arrival_time_std</th>\n",
       "      <th>time_in_sys</th>\n",
       "    </tr>\n",
       "  </thead>\n",
       "  <tbody>\n",
       "    <tr>\n",
       "      <th>281</th>\n",
       "      <td>1378.0</td>\n",
       "      <td>1997.397641</td>\n",
       "      <td>22.019312</td>\n",
       "      <td>0.000501</td>\n",
       "      <td>0.000346</td>\n",
       "      <td>0.000018</td>\n",
       "    </tr>\n",
       "    <tr>\n",
       "      <th>286</th>\n",
       "      <td>1378.0</td>\n",
       "      <td>2341.770438</td>\n",
       "      <td>25.815677</td>\n",
       "      <td>0.000427</td>\n",
       "      <td>0.000285</td>\n",
       "      <td>0.000017</td>\n",
       "    </tr>\n",
       "    <tr>\n",
       "      <th>473</th>\n",
       "      <td>1378.0</td>\n",
       "      <td>1349.734352</td>\n",
       "      <td>14.879471</td>\n",
       "      <td>0.000741</td>\n",
       "      <td>0.000560</td>\n",
       "      <td>0.000019</td>\n",
       "    </tr>\n",
       "    <tr>\n",
       "      <th>227</th>\n",
       "      <td>1378.0</td>\n",
       "      <td>2764.901791</td>\n",
       "      <td>30.480277</td>\n",
       "      <td>0.000362</td>\n",
       "      <td>0.000225</td>\n",
       "      <td>0.000016</td>\n",
       "    </tr>\n",
       "    <tr>\n",
       "      <th>436</th>\n",
       "      <td>1378.0</td>\n",
       "      <td>1364.833679</td>\n",
       "      <td>15.045926</td>\n",
       "      <td>0.000733</td>\n",
       "      <td>0.000567</td>\n",
       "      <td>0.000020</td>\n",
       "    </tr>\n",
       "  </tbody>\n",
       "</table>\n",
       "</div>"
      ],
      "text/plain": [
       "     packet_size  packet_rate  throughput  inter_arrival_time_mean  \\\n",
       "281       1378.0  1997.397641   22.019312                 0.000501   \n",
       "286       1378.0  2341.770438   25.815677                 0.000427   \n",
       "473       1378.0  1349.734352   14.879471                 0.000741   \n",
       "227       1378.0  2764.901791   30.480277                 0.000362   \n",
       "436       1378.0  1364.833679   15.045926                 0.000733   \n",
       "\n",
       "     inter_arrival_time_std  time_in_sys  \n",
       "281                0.000346     0.000018  \n",
       "286                0.000285     0.000017  \n",
       "473                0.000560     0.000019  \n",
       "227                0.000225     0.000016  \n",
       "436                0.000567     0.000020  "
      ]
     },
     "metadata": {},
     "output_type": "display_data"
    }
   ],
   "source": [
    "# Display the first 5 rows of the output dataset\n",
    "display(upf_output_data.head())"
   ]
  },
  {
   "cell_type": "markdown",
   "id": "203b916a",
   "metadata": {},
   "source": [
    "<div style=\"font-family: Arial, sans-serif; color: #222; line-height: 1.6; max-width: 700px; margin: 20px auto; padding: 20px; border: 1px solid #444; border-radius: 8px; background-color: #eaeaea; box-shadow: 0px 4px 8px rgba(0, 0, 0, 0.15);\">\n",
    "  <h2 style=\"color: #ffffff; background-color: #333333; padding: 10px; border-radius: 4px; margin-bottom: 20px; text-align: center;\">Exercise: Explore the Dataset</h2>\n",
    "  \n",
    "  <p style=\"font-size: 1.1em; margin-top: 15px; margin-bottom: 20px;\">\n",
    "    Take a few minutes to examine the dataset. Look at the data structure, features, and any patterns that stand out. Once you are familiar with the dataset, try answering the following questions.\n",
    "  </p>\n",
    "  \n",
    "  <h3 style=\"color: #ff9800; margin-bottom: 15px;\">Questions to Explore</h3>\n",
    "  <ol style=\"font-size: 1.1em; margin-left: 25px; margin-bottom: 20px;\">\n",
    "    <li>What does the <code>create_3d_plot</code> method in the <code>DataGenerator</code> class do?</li>\n",
    "    <li>What does the <code>res</code> column represent, and why is it absent from the output dataset?</li>\n",
    "    <li>What does the <code>time_in_sys</code> column represent?</li>\n",
    "    <li>What is the range of <code>input throughput</code> to the UPF?</li>\n",
    "    <li>What is the range of <code>resource allocation</code> to the RAN?</li>\n",
    "    <li>What is the mean delay for the UPF and the RAN? Which one is higher?</li>\n",
    "  </ol>\n",
    "  \n",
    "  <h4 style=\"color: #333333; margin-top: 25px; margin-bottom: 10px; border-bottom: 1px solid #999; padding-bottom: 5px;\">Hint:</h4>\n",
    "  <p style=\"font-size: 1.05em; margin-bottom: 20px;\">\n",
    "    Use methods like <code>.describe()</code>, <code>.min()</code>, <code>.max()</code>, and <code>.mean()</code> on specific columns or the entire dataset to gather insights. Use the code cell below to answer the questions.\n",
    "  </p>\n",
    "  \n",
    "  <h4 style=\"color: #333333; margin-bottom: 10px; border-bottom: 1px solid #999; padding-bottom: 5px;\">Examples:</h4>\n",
    "  <ul style=\"font-size: 1.05em; margin-left: 25px;\">\n",
    "    <li><code>upf_output_data.time_in_sys.mean()</code> – Calculate the mean delay for the UPF.</li>\n",
    "    <li><code>upf_input_data.throughput.min()</code> – Get the minimum input throughput for the UPF.</li>\n",
    "    <li><code>ran_output_data.throughput.mean()</code> – Calculate the mean throughput for the RAN.</li>\n",
    "  </ul>\n",
    "</div>\n"
   ]
  },
  {
   "cell_type": "markdown",
   "id": "0a84c67c",
   "metadata": {},
   "source": [
    "<center>Double click here to reveal the solution.</center>\n",
    "\n",
    "<!-- Q1: Based on the documentation in the data_generator.py file, the create_3d_plot function generates a 3D surface plot to visualize the relationship between resource allocation, input throughput, and output throughput. It uses interpolation to create a smooth surface.\n",
    "\n",
    "Q2: Based on the Dataset Description section in the README file in net_model_dataset, the res column represents the resource allocation in (CPU millicores for the RAN and OvS, and throughput Mbps for the UPF). It is absent from the output dataset because it is only used as input to the VNF models.\n",
    "\n",
    "Q3: Based on the Dataset Description section in the README file in net_model_dataset, the time_in_sys column represents the packet delay.\n",
    "\n",
    "Q4: upf_input_data.throughput.max() returns 48.9 and upf_input_data.throughput.min() returns 0.84, so the input throughput to the UPF ranges between 0.84 and 48.9 Mbps.\n",
    "\n",
    "Q5: ran_data_gen.train_input.res.min() returns 250 and ran_data_gen.train_input.res.max() returns 2500, so the resource allocation to the RAN ranges between 250 and 2500 millicores.\n",
    "\n",
    "Q6: upf_output_data.time_in_sys.mean() returns 1.80e-05 and ran_output_data.time_in_sys.mean() returns 2.83, so the mean delay for the UPF about 0.02 ms and for the RAN is 2.83 s. The UPF has a lower delay. -->"
   ]
  },
  {
   "cell_type": "code",
   "execution_count": null,
   "id": "faf8f1ce",
   "metadata": {},
   "outputs": [],
   "source": []
  },
  {
   "cell_type": "markdown",
   "id": "06255468",
   "metadata": {},
   "source": [
    "<div style=\"display: inline-block;\">\n",
    "    <h2 style=\"font-family: 'Courier New', Courier, monospace; font-size: 1.5em; color: #f0f6fc; background-color: #2d333b; border-left: 4px solid #3F51B5; padding: 8px 15px; border-radius: 4px; margin-top: 20px; box-shadow: 0 1px 3px rgba(0, 0, 0, 0.1);\">\n",
    "        3c.Plotting the dataset\n",
    "    </h2>\n",
    "</div>\n"
   ]
  },
  {
   "cell_type": "code",
   "execution_count": 9,
   "id": "23f341b4-ed6c-4bae-9d27-2a333d3f0e7f",
   "metadata": {
    "editable": true,
    "slideshow": {
     "slide_type": ""
    },
    "tags": []
   },
   "outputs": [
    {
     "name": "stdout",
     "output_type": "stream",
     "text": [
      "OvS\n"
     ]
    },
    {
     "data": {
      "image/png": "[encoded data removed]",
      "text/plain": [
       "<Figure size 720x504 with 2 Axes>"
      ]
     },
     "metadata": {
      "needs_background": "light"
     },
     "output_type": "display_data"
    }
   ],
   "source": [
    "# Plot the OvS output throughput\n",
    "ovs_data_gen.create_3d_plot()"
   ]
  },
  {
   "cell_type": "markdown",
   "id": "2dd64524",
   "metadata": {},
   "source": [
    "<div style=\"font-family: Arial, sans-serif; color: #333; line-height: 1.6; max-width: 600px;\">\n",
    "  <h3 style=\"color: #4CAF50; border-bottom: 2px solid #4CAF50; padding-bottom: 5px; text-align: left;\">Does the 3D Plot Show Expected Behavior?</h3>\n",
    "  <p style=\"font-size: 1.1em; margin-top: 15px; text-align: left;\">\n",
    "    The 3D plot illustrates the relationship between resource allocation, input throughput, and output throughput for the <strong>OvS VNF</strong>. Key observations include:\n",
    "  </p>\n",
    "  <ul style=\"font-size: 1.1em; padding-left: 20px; margin-top: 10px; text-align: left;\">\n",
    "    <li><strong>Positive Correlation:</strong> A clear positive correlation is visible between resource allocation and output throughput, indicating that as resource allocation increases, output throughput also rises.</li>\n",
    "    <li><strong>Expected Behavior:</strong> This positive relationship aligns with the anticipated behavior for the OvS VNF, where increased resources lead to improved throughput.</li>\n",
    "  </ul>\n",
    "</div>\n"
   ]
  },
  {
   "cell_type": "markdown",
   "id": "35bae17d",
   "metadata": {},
   "source": [
    "<div style=\"display: inline-block;\">\n",
    "    <h2 style=\"font-family: 'Courier New', Courier, monospace; font-size: 1.5em; color: #f0f6fc; background-color: #2d333b; border-left: 4px solid #3F51B5; padding: 8px 15px; border-radius: 4px; margin-top: 20px; box-shadow: 0 1px 3px rgba(0, 0, 0, 0.1);\">\n",
    "        3d. Investigating packet loss and delay\n",
    "    </h2>\n",
    "</div>\n"
   ]
  },
  {
   "cell_type": "code",
   "execution_count": 20,
   "id": "0db667f6",
   "metadata": {},
   "outputs": [
    {
     "data": {
      "application/vnd.jupyter.widget-view+json": {
       "model_id": "6157f31ae8f64d6d8d645b66b137ce75",
       "version_major": 2,
       "version_minor": 0
      },
      "text/plain": [
       "SelectionSlider(description='Input Throughput (Mbps):', layout=Layout(padding='10px 0px', width='50%'), option…"
      ]
     },
     "metadata": {},
     "output_type": "display_data"
    },
    {
     "data": {
      "application/vnd.jupyter.widget-view+json": {
       "model_id": "8d4cf0470b0e4450adc6d624ed375309",
       "version_major": 2,
       "version_minor": 0
      },
      "text/plain": [
       "SelectionSlider(description='Resource Allocation (millicores):', layout=Layout(padding='10px 0px', width='50%'…"
      ]
     },
     "metadata": {},
     "output_type": "display_data"
    },
    {
     "data": {
      "application/vnd.jupyter.widget-view+json": {
       "model_id": "cd0aced9d74142118fe1f37a1f310bff",
       "version_major": 2,
       "version_minor": 0
      },
      "text/plain": [
       "HBox(children=(Label(value='Output Throughput:', layout=Layout(width='150px')), Label(value='')))"
      ]
     },
     "metadata": {},
     "output_type": "display_data"
    },
    {
     "data": {
      "application/vnd.jupyter.widget-view+json": {
       "model_id": "6f2b582f58a541a59493de20165f9420",
       "version_major": 2,
       "version_minor": 0
      },
      "text/plain": [
       "HBox(children=(Label(value='Delay:', layout=Layout(width='150px')), Label(value='')))"
      ]
     },
     "metadata": {},
     "output_type": "display_data"
    },
    {
     "data": {
      "application/vnd.jupyter.widget-view+json": {
       "model_id": "cca749a13db64668b62100f90bd8d1ca",
       "version_major": 2,
       "version_minor": 0
      },
      "text/plain": [
       "HBox(children=(Label(value='Packet Loss:', layout=Layout(width='150px')), Label(value='')))"
      ]
     },
     "metadata": {},
     "output_type": "display_data"
    },
    {
     "data": {
      "application/vnd.jupyter.widget-view+json": {
       "model_id": "2a1db0756f3b4832a581a8d738c3aec4",
       "version_major": 2,
       "version_minor": 0
      },
      "text/plain": [
       "FigureWidget({\n",
       "    'data': [{'marker': {'color': 'skyblue'},\n",
       "              'type': 'bar',\n",
       "              'uid': 'b1d59c52-1351-4e88-a4b7-7ac366884c16',\n",
       "              'x': [Input Throughput, Resource Allocation, Output Throughput,\n",
       "                    Delay, Packet Loss],\n",
       "              'y': [0, 0, 0, 0, 0]}],\n",
       "    'layout': {'template': '...',\n",
       "               'title': {'text': 'Metrics Visualization'},\n",
       "               'xaxis': {'title': {'text': 'Metrics'}},\n",
       "               'yaxis': {'range': [0, 1], 'title': {'text': 'Normalized Value'}}}\n",
       "})"
      ]
     },
     "metadata": {},
     "output_type": "display_data"
    }
   ],
   "source": [
    "# Create sliders for input throughput and resource allocation\n",
    "input_throughput_slider = widgets.SelectionSlider(\n",
    "    options=list(range(5, 55, 5)),  # range from 5 to 50 Mbps in steps of 5\n",
    "    description='Input Throughput (Mbps):',\n",
    "    continuous_update=True,\n",
    "    style={'description_width': '200px'},\n",
    "    layout=widgets.Layout(width='50%', padding='10px 0px')\n",
    ")\n",
    "\n",
    "resource_allocation_slider = widgets.SelectionSlider(\n",
    "    options=sorted(ran_data_gen.train_input['res'].unique().tolist()), \n",
    "    description='Resource Allocation (millicores):',\n",
    "    continuous_update=True,\n",
    "    style={'description_width': '200px'},\n",
    "    layout=widgets.Layout(width='50%', padding='10px 0px')\n",
    ")\n",
    "\n",
    "# Create labels for metrics\n",
    "metric_labels = [\"Input Throughput\", \"Resource Allocation\", \"Output Throughput\", \"Delay\", \"Packet Loss\"]\n",
    "metric_units = [\"Mbps\", \"millicores\", \"Mbps\", \"ms\", \"%\"]\n",
    "\n",
    "output_values = {\n",
    "    \"Output Throughput\": widgets.Label(\"\"),\n",
    "    \"Delay\": widgets.Label(\"\"),\n",
    "    \"Packet Loss\": widgets.Label(\"\")\n",
    "}\n",
    "\n",
    "# Function to fetch and update plot data from ran_data_gen\n",
    "def update_plot(input_throughput, resource_allocation):\n",
    "    # Retrieve data sample based on current slider values\n",
    "    data_sample = ran_data_gen.get_nearest_neighbor(input_throughput, resource_allocation)\n",
    "\n",
    "    # Check if valid data is returned\n",
    "    if data_sample:\n",
    "        # Retrieve and display actual metric values from data_sample\n",
    "        output_throughput = data_sample.get(\"output_throughput\", 0)\n",
    "        delay = data_sample.get(\"time_in_sys\", 0)\n",
    "        packet_loss = data_sample.get(\"packet_loss\", 0)\n",
    "        \n",
    "        # Update metric values\n",
    "        output_values[\"Output Throughput\"].value = f\"{output_throughput:.1f} Mbps\"\n",
    "        output_values[\"Delay\"].value = f\"{delay:.1f} ms\"\n",
    "        output_values[\"Packet Loss\"].value = f\"{packet_loss:.1f} %\"\n",
    "\n",
    "        # Normalize values for plotting\n",
    "        normalized_values = [\n",
    "            input_throughput / 50,\n",
    "            resource_allocation / 2500,\n",
    "            output_throughput / 50,\n",
    "            delay / 100,\n",
    "            packet_loss\n",
    "        ]\n",
    "    else:\n",
    "        # If no data, reset output values to \"No data\"\n",
    "        output_values[\"Output Throughput\"].value = \"No data\"\n",
    "        output_values[\"Delay\"].value = \"No data\"\n",
    "        output_values[\"Packet Loss\"].value = \"No data\"\n",
    "        normalized_values = [0, 0, 0, 0, 0]\n",
    "\n",
    "    # Update the Plotly plot\n",
    "    fig.data[0].y = normalized_values\n",
    "    fig.update_layout(title=\"Metrics Visualization\")\n",
    "\n",
    "# Create an initial Plotly bar chart\n",
    "fig = go.FigureWidget(\n",
    "    data=[go.Bar(x=metric_labels, y=[0, 0, 0, 0, 0], marker_color='skyblue')],\n",
    "    layout=go.Layout(\n",
    "        title=\"Metrics Visualization\",\n",
    "        xaxis=dict(title=\"Metrics\"),\n",
    "        yaxis=dict(title=\"Normalized Value\", range=[0, 1])\n",
    "    )\n",
    ")\n",
    "\n",
    "# Define an update function for widget interaction\n",
    "def on_slider_change(change):\n",
    "    update_plot(input_throughput_slider.value, resource_allocation_slider.value)\n",
    "\n",
    "# Attach update function to sliders\n",
    "input_throughput_slider.observe(on_slider_change, names='value')\n",
    "resource_allocation_slider.observe(on_slider_change, names='value')\n",
    "\n",
    "# Display widgets and plot\n",
    "display(input_throughput_slider, resource_allocation_slider)\n",
    "\n",
    "# Display metric labels and values\n",
    "for label, widget in output_values.items():\n",
    "    display(widgets.HBox([widgets.Label(f\"{label}:\", layout=widgets.Layout(width='150px')), widget]))\n",
    "\n",
    "display(fig)\n",
    "\n",
    "# Initialize with default values\n",
    "update_plot(input_throughput_slider.value, resource_allocation_slider.value)\n"
   ]
  },
  {
   "cell_type": "markdown",
   "metadata": {},
   "source": [
    "<div style=\"font-family: Arial, sans-serif; color: #222; line-height: 1.6; max-width: 700px; margin: auto; padding: 20px; border: 1px solid #444; border-radius: 8px; background-color: #eaeaea; box-shadow: 0px 4px 8px rgba(0, 0, 0, 0.15);\">\n",
    "  <h2 style=\"color: #ffffff; background-color: #333333; padding: 10px; border-radius: 4px; margin-bottom: 20px; text-align: center;\">Exercise: Explore the Dataset</h2>\n",
    "  \n",
    "  <p style=\"font-size: 1.1em; margin-top: 10px;\">\n",
    "    Take a few minutes to play with the widget above. Once familiar with it, try answering the following questions:\n",
    "  </p>\n",
    "  \n",
    "  <h3 style=\"color: #ff9800; margin-bottom: 10px;\">Questions to Explore</h3>\n",
    "  <ol style=\"font-size: 1.1em; margin-left: 25px; margin-bottom: 20px;\">\n",
    "    <li>What is the correlation between the <strong>resource allocation</strong> and the <strong>delay</strong>?</li>\n",
    "    <li>What is the minimum resource allocation required to support:\n",
    "      <ul style=\"margin-left: 25px;\">\n",
    "        <li>an input throughput of <strong>40 Mbps</strong> with <strong>0% packet loss</strong>?</li>\n",
    "        <li>an input throughput of <strong>20 Mbps</strong> with <strong>0% packet loss</strong>?</li>\n",
    "      </ul>\n",
    "    </li>\n",
    "    <li>What is the maximum input throughput that can be supported with <strong>1000 millicores</strong> of resource allocation while maintaining:\n",
    "      <ul style=\"margin-left: 25px;\">\n",
    "        <li><strong>0% packet loss</strong>?</li>\n",
    "        <li><strong>10% packet loss</strong>?</li>\n",
    "      </ul>\n",
    "    </li>\n",
    "  </ol>\n",
    "  \n",
    "  <h4 style=\"color: #333333; margin-top: 20px; border-bottom: 1px solid #999; padding-bottom: 5px;\">Hint:</h4>\n",
    "  <p style=\"font-size: 1.05em; margin-bottom: 20px;\">Use methods like <code>.describe()</code>, <code>.min()</code>, <code>.max()</code>, and <code>.mean()</code> on specific columns or the entire dataset to gather insights.</p>\n",
    "  \n",
    "  <h4 style=\"color: #333333; margin-top: 10px; border-bottom: 1px solid #999; padding-bottom: 5px;\">Examples:</h4>\n",
    "  <ul style=\"font-size: 1.05em; margin-left: 25px;\">\n",
    "    <li><code>upf_output_data.time_in_sys.mean()</code> – Calculate the mean delay for the UPF.</li>\n",
    "    <li><code>upf_input_data.throughput.min()</code> – Get the minimum input throughput for the UPF.</li>\n",
    "    <li><code>ran_output_data.throughput.mean()</code> – Calculate the mean throughput for the RAN.</li>\n",
    "  </ul>\n",
    "</div>\n"
   ]
  },
  {
   "cell_type": "markdown",
   "id": "4d757ca6",
   "metadata": {},
   "source": [
    "<center>Double click here to reveal the solution.</center>\n",
    "\n",
    "<!-- \n",
    "Q1. The correlation between the resource allocation and the output throughput is positive, meaning that as the resource allocation increases, the output throughput also increases.\n",
    "\n",
    "Q2. The correlation between the resource allocation and the packet delay is negative, meaning that as the resource allocation increases, the packet delay decreases.\n",
    "\n",
    "Q3. The minimum resource allocation required to support an input throughput of 40 Mbps with 0% packet loss is 1500 millicores. The minimum resource allocation required to support an input throughput of 20 Mbps with 0% packet loss is 1000 millicores.\n",
    "\n",
    "Q4. The maximum input throughput that can be supported with 1000 millicores of resource allocation while maintaining 0% packet loss is 20 Mbps. The maximum input throughput that can be supported with 1000 millicores of resource allocation while maintaining 10% packet loss is 25 Mbps.\n",
    " -->"
   ]
  },
  {
   "cell_type": "code",
   "execution_count": null,
   "id": "5631cb19",
   "metadata": {},
   "outputs": [],
   "source": []
  },
  {
   "cell_type": "markdown",
   "id": "fa948318",
   "metadata": {},
   "source": [
    "<div style=\"font-family: 'Courier New', Courier, monospace; font-size: 1.8em; color: #f6f8fa; background-color: #24292e; border: 2px solid #444d56; border-radius: 6px; padding: 10px 20px; margin-top: 20px; box-shadow: 0 2px 5px rgba(0, 0, 0, 0.1);\">\n",
    "    <span style=\"font-weight: 600; font-size: 1.1em; letter-spacing: 0.5px; color: #f0f6fc;\">4. Next Steps</span>\n",
    "</div>\n"
   ]
  },
  {
   "cell_type": "markdown",
   "id": "9e23b22f",
   "metadata": {},
   "source": [
    "<div style=\"font-family: Arial, sans-serif; color: #333; line-height: 1.6; max-width: 600px;\">\n",
    "  <h3 style=\"color: #4CAF50; border-bottom: 2px solid #4CAF50; padding-bottom: 5px; text-align: left;\">Why Do We Need a VNF Model?</h3>\n",
    "  <p style=\"font-size: 1.1em; margin-top: 15px; text-align: left;\">\n",
    "    The dataset currently includes output features for only a limited set of input values. To address this, we need a <strong>VNF model</strong> to fill in the gaps and predict outputs for the full range of input conditions.\n",
    "  </p>\n",
    "  <p style=\"font-size: 1.1em; margin-top: 15px; text-align: left;\">\n",
    "    In the next notebook, we’ll explore how to train a VNF model using this dataset and demonstrate how multiple VNF models can be combined to create an end-to-end network slice model.\n",
    "  </p>\n",
    "</div>\n"
   ]
  }
 ],
 "metadata": {
  "kernelspec": {
   "display_name": "Python 3 (ipykernel)",
   "language": "python",
   "name": "python3"
  },
  "language_info": {
   "codemirror_mode": {
    "name": "ipython",
    "version": 3
   },
   "file_extension": ".py",
   "mimetype": "text/x-python",
   "name": "python",
   "nbconvert_exporter": "python",
   "pygments_lexer": "ipython3",
   "version": "3.10.12"
  }
 },
 "nbformat": 4,
 "nbformat_minor": 5
}
