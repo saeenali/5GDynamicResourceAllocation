{
 "cells": [
  {
   "cell_type": "markdown",
   "id": "49e224c9",
   "metadata": {},
   "source": [
    "# Install dependencies, perform imports, and download the dataset"
   ]
  },
  {
   "cell_type": "code",
   "execution_count": null,
   "id": "6ac5b774-2d59-4c5a-9d87-05b0f75ce2a2",
   "metadata": {},
   "outputs": [],
   "source": [
    "%%capture\n",
    "%load_ext autoreload\n",
    "%autoreload 2\n",
    "!pip install pandas \n",
    "!pip install matplotlib\n",
    "!pip install torch\n",
    "!pip install scikit-learn"
   ]
  },
  {
   "cell_type": "code",
   "execution_count": null,
   "id": "ae6ca24a",
   "metadata": {},
   "outputs": [],
   "source": [
    "%%capture\n",
    "%cd /home/m4sulaim/jupyter\n",
    "%cd net_model_dataset\n",
    "\n",
    "from data_generator import DataGenerator as DataGenerator\n",
    "from matplotlib import pyplot as plt\n",
    "import pandas as pd\n",
    "import ipywidgets as widgets\n",
    "from utils import *\n",
    "import matplotlib as mpl\n",
    "mpl.rcParams['figure.facecolor'] = 'white'\n",
    "from IPython.display import display\n",
    "\n",
    "from vnf_model import *\n",
    "from slice_model import *\n",
    "from resource_allocation import *\n",
    "device = torch.device(\"cuda\" if torch.cuda.is_available() else \"cpu\")  # Use GPU if available"
   ]
  },
  {
   "cell_type": "code",
   "execution_count": null,
   "id": "2d3e713c",
   "metadata": {},
   "outputs": [],
   "source": [
    "ran_data_gen = DataGenerator('./ran/input_dataset.pkl', './ran/output_dataset.pkl', vnf_type='RAN', norm_type='minmax')\n",
    "ran_model = VNF_Model('ran', 5, [64, 32, 16], 5)\n",
    "ran_model.to(device)\n",
    "ran_model.load_weights('./ran/model.pth')\n",
    "\n",
    "ovs_data_gen = DataGenerator('./ovs/input_dataset.pkl', './ovs/output_dataset.pkl', vnf_type='OvS', norm_type='minmax')\n",
    "ovs_model = VNF_Model('ovs', 5, [64, 32, 16], 5)\n",
    "ovs_model.to(device)\n",
    "ovs_model.load_weights('./ovs/model.pth')\n",
    "\n",
    "upf_data_gen = DataGenerator('./upf/input_dataset.pkl', './upf/output_dataset.pkl', vnf_type='UPF', norm_type='minmax')\n",
    "upf_model = VNF_Model('upf', 5, [32, 16], 5)\n",
    "upf_model.to(device)\n",
    "upf_model.load_weights('./upf/model.pth')\n",
    "\n",
    "data_gens = [upf_data_gen, ovs_data_gen, ran_data_gen]\n",
    "vnf_models = [upf_model, ovs_model, ran_model]\n",
    "slice_model = Slice_Model(vnf_models, data_gens)\n"
   ]
  },
  {
   "cell_type": "code",
   "execution_count": null,
   "id": "e4a042c8",
   "metadata": {},
   "outputs": [],
   "source": [
    "res_alloc = {'UPF': 200, #CPU (millicores)\n",
    "                       'OVS': 50, #Throughput (Mbps)\n",
    "                       'RAN': 1000} #CPU (millicores)\n",
    "input_throughput = 35\n",
    "\n",
    "output_throughput = slice_model.predict_throughput(list(res_alloc.values()), input_throughput, res_normalized=False)\n",
    "print(output_throughput)"
   ]
  },
  {
   "cell_type": "code",
   "execution_count": null,
   "id": "6c57f8cf",
   "metadata": {},
   "outputs": [],
   "source": [
    "input_throughput = 40\n",
    "output_throughput = 15\n",
    "resource_allocation, _, _, _, _ = MicroOpt(slice_model, input_throughput, output_throughput, verbose=1)\n",
    "print(resource_allocation)"
   ]
  },
  {
   "cell_type": "code",
   "execution_count": null,
   "id": "214fea44",
   "metadata": {},
   "outputs": [],
   "source": [
    "output_throughput = slice_model.predict_throughput(list(resource_allocation[0]), input_throughput, res_normalized=True)\n",
    "print(output_throughput)\n"
   ]
  }
 ],
 "metadata": {
  "kernelspec": {
   "display_name": "Python 3 (ipykernel)",
   "language": "python",
   "name": "python3"
  },
  "language_info": {
   "codemirror_mode": {
    "name": "ipython",
    "version": 3
   },
   "file_extension": ".py",
   "mimetype": "text/x-python",
   "name": "python",
   "nbconvert_exporter": "python",
   "pygments_lexer": "ipython3",
   "version": "3.10.12"
  }
 },
 "nbformat": 4,
 "nbformat_minor": 5
}
