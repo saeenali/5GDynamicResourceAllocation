{
 "cells": [
  {
   "cell_type": "markdown",
   "id": "49e224c9",
   "metadata": {},
   "source": [
    "<div style=\"font-family: 'Courier New', Courier, monospace; font-size: 1.8em; color: #f6f8fa; background-color: #24292e; border: 2px solid #444d56; border-radius: 6px; padding: 10px 20px; margin-top: 20px; box-shadow: 0 2px 5px rgba(0, 0, 0, 0.1);\">\n",
    "    <span style=\"font-weight: 600; font-size: 1.1em; letter-spacing: 0.5px; color: #f0f6fc;\">2. Importing the necessary libraries</span>\n",
    "</div>\n"
   ]
  },
  {
   "cell_type": "code",
   "execution_count": 9,
   "id": "ae6ca24a",
   "metadata": {},
   "outputs": [],
   "source": [
    "%%capture\n",
    "%load_ext autoreload\n",
    "%autoreload 2\n",
    "\n",
    "from data_generator import DataGenerator as DataGenerator\n",
    "from matplotlib import pyplot as plt\n",
    "import pandas as pd\n",
    "import ipywidgets as widgets\n",
    "import matplotlib as mpl\n",
    "mpl.rcParams['figure.facecolor'] = 'white'\n",
    "from IPython.display import display\n",
    "\n",
    "from vnf_model import *\n",
    "from slice_model import *\n",
    "from resource_allocation import *\n",
    "device = torch.device(\"cuda\" if torch.cuda.is_available() else \"cpu\")  # Use GPU if available"
   ]
  },
  {
   "cell_type": "code",
   "execution_count": 10,
   "id": "2d3e713c",
   "metadata": {},
   "outputs": [],
   "source": [
    "ran_data_gen = DataGenerator('./net_model_dataset/ran/input_dataset.pkl', './net_model_dataset/ran/output_dataset.pkl', vnf_type='RAN', norm_type='minmax')\n",
    "ran_model = VNF_Model('ran', 6, [64, 32, 16], 5)\n",
    "ran_model.to(device)\n",
    "ran_model.load_weights('./data/saved_weights/ran/model.pth')\n",
    "\n",
    "ovs_data_gen = DataGenerator('./net_model_dataset/ovs/input_dataset.pkl', './net_model_dataset/ovs/output_dataset.pkl', vnf_type='OvS', norm_type='minmax')\n",
    "ovs_model = VNF_Model('ovs', 6, [64, 32, 16], 5)\n",
    "ovs_model.to(device)\n",
    "ovs_model.load_weights('./data/saved_weights/ovs/model.pth')\n",
    "\n",
    "upf_data_gen = DataGenerator('./net_model_dataset/upf/input_dataset.pkl', './net_model_dataset/upf/output_dataset.pkl', vnf_type='UPF', norm_type='minmax')\n",
    "upf_model = VNF_Model('upf', 6, [32, 16], 5)\n",
    "upf_model.to(device)\n",
    "upf_model.load_weights('./data/saved_weights/upf/model.pth')\n",
    "\n",
    "data_gens = [upf_data_gen, ovs_data_gen, ran_data_gen]\n",
    "vnf_models = [upf_model, ovs_model, ran_model]\n",
    "slice_model = SliceModel(vnf_models, data_gens)\n"
   ]
  },
  {
   "cell_type": "code",
   "execution_count": null,
   "id": "e4a042c8",
   "metadata": {},
   "outputs": [],
   "source": [
    "resource_allocation = {'UPF': 200, #CPU (millicores)\n",
    "                       'OVS': 50, #Throughput (Mbps)\n",
    "                       'RAN': 1000} #CPU (millicores)\n",
    "input_throughput = 35\n",
    "\n",
    "output_throughput = slice_model.predict_throughput(res = list(resource_allocation.values()),\n",
    "                                                    input_throughput= input_throughput,\n",
    "                                                    differentiable=0,\n",
    "                                                    res_normalized=False)\n",
    "print(output_throughput)"
   ]
  },
  {
   "cell_type": "code",
   "execution_count": 32,
   "id": "6c57f8cf",
   "metadata": {},
   "outputs": [
    {
     "name": "stdout",
     "output_type": "stream",
     "text": [
      "Init weights: [1.   0.5  0.35]\n",
      "[[0.99999905 0.49999952 0.34999964]]\n"
     ]
    }
   ],
   "source": [
    "input_throughput = 30\n",
    "output_throughput = 10\n",
    "resource_allocation, _, _, _, _ = MicroOpt(slice_model, input_throughput, output_throughput, verbose=0)\n",
    "print(resource_allocation)"
   ]
  },
  {
   "cell_type": "code",
   "execution_count": 33,
   "id": "214fea44",
   "metadata": {},
   "outputs": [
    {
     "name": "stdout",
     "output_type": "stream",
     "text": [
      "20.1007137298584\n"
     ]
    }
   ],
   "source": [
    "output_throughput = slice_model.predict_throughput(list(resource_allocation[0]), input_throughput, res_normalized=True)\n",
    "print(output_throughput)\n"
   ]
  }
 ],
 "metadata": {
  "kernelspec": {
   "display_name": "Python 3 (ipykernel)",
   "language": "python",
   "name": "python3"
  },
  "language_info": {
   "codemirror_mode": {
    "name": "ipython",
    "version": 3
   },
   "file_extension": ".py",
   "mimetype": "text/x-python",
   "name": "python",
   "nbconvert_exporter": "python",
   "pygments_lexer": "ipython3",
   "version": "3.10.12"
  }
 },
 "nbformat": 4,
 "nbformat_minor": 5
}
